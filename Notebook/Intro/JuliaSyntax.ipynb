{
 "cells": [
  {
   "cell_type": "code",
   "execution_count": null,
   "metadata": {},
   "outputs": [],
   "source": [
    "#定义简单函数\n",
    "myfun(x) = exp(sin(x))"
   ]
  },
  {
   "cell_type": "code",
   "execution_count": 3,
   "metadata": {},
   "outputs": [
    {
     "ename": "LoadError",
     "evalue": "ParseError:\n\u001b[90m# Error @ \u001b[0;0m\u001b]8;;file://d:/prog&lec/mit18330/Notebook/Intro/In[3]#3:25\u001b\\\u001b[90mIn[3]:3:25\u001b[0;0m\u001b]8;;\u001b\\\nusing Plots\nplot(x->exp(sin(x)),0,6)\u001b[48;2;120;70;70m)\u001b[0;0m\n\u001b[90m#                       ╙ ── \u001b[0;0m\u001b[91mextra tokens after end of expression\u001b[0;0m",
     "output_type": "error",
     "traceback": [
      "ParseError:\n\u001b[90m# Error @ \u001b[0;0m\u001b]8;;file://d:/prog&lec/mit18330/Notebook/Intro/In[3]#3:25\u001b\\\u001b[90mIn[3]:3:25\u001b[0;0m\u001b]8;;\u001b\\\nusing Plots\nplot(x->exp(sin(x)),0,6)\u001b[48;2;120;70;70m)\u001b[0;0m\n\u001b[90m#                       ╙ ── \u001b[0;0m\u001b[91mextra tokens after end of expression\u001b[0;0m",
      "",
      "Stacktrace:",
      " [1] top-level scope",
      "   @ In[3]:3"
     ]
    }
   ],
   "source": [
    "#匿名函数\n",
    "using Plots\n",
    "plot(x->exp(sin(x)),0,6)"
   ]
  }
 ],
 "metadata": {
  "kernelspec": {
   "display_name": "Julia 1.10.5",
   "language": "julia",
   "name": "julia-1.10"
  },
  "language_info": {
   "file_extension": ".jl",
   "mimetype": "application/julia",
   "name": "julia",
   "version": "1.10.5"
  }
 },
 "nbformat": 4,
 "nbformat_minor": 2
}
