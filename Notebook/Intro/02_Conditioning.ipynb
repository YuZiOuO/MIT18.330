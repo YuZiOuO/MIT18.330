{
 "cells": [
  {
   "cell_type": "markdown",
   "metadata": {},
   "source": [
    "# Problem and conditioning:与问题函数的导数有关"
   ]
  },
  {
   "cell_type": "markdown",
   "metadata": {},
   "source": [
    "## 定义\n",
    "当使用浮点数计算时,记数据$x$的浮点数表示 $\\tilde x = fl(x)$,处理该数据的函数$f:\\mathbb{R}\\rightarrow\\mathbb{R}$  \n",
    "则 $$f输入与输出相对误差的比值 =\\frac{\\frac{|f(x)-f(\\tilde x)|}{|f(x)|}}{\\frac{|x-\\tilde x|}{|x|}} = \\frac{|f(x)-f(x(1+\\epsilon))|}{|\\epsilon f(x)|}$$  \n",
    "定义$$条件数\\kappa_{f}(x)=\\lim_{\\epsilon \\to 0}\\frac{|f(x)-f(x(1+\\epsilon))|}{|\\epsilon f(x)|}=\\lim_{\\epsilon \\to 0}|\\frac{f(x+\\epsilon x)-f(x)}{\\epsilon x}\\cdot\\frac{x}{f(x)}| = \\lim_{\\epsilon \\to 0}|\\frac{xf^{\\prime}(x)}{x}|$$"
   ]
  },
  {
   "cell_type": "markdown",
   "metadata": {},
   "source": [
    "## 相近数相减:有效数字可能会减少\n",
    "\n",
    "> Subtractive Cancellation  \n",
    "Growth in relative error that occurs when two numbers are added/subtracted to get a result that is much smaller in magnitude than the operands.  \n",
    "\n",
    "> There’s no way the loss could be avoided, regardless of the algorithm, once we decided to round off everything to a fixed number of digits.\n",
    "\n",
    "e.g $1.0000-1.0012=-0.0012$"
   ]
  }
 ],
 "metadata": {
  "language_info": {
   "name": "python"
  }
 },
 "nbformat": 4,
 "nbformat_minor": 2
}
