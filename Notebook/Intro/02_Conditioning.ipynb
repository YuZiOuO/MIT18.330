{
 "cells": [
  {
   "cell_type": "markdown",
   "metadata": {},
   "source": [
    "# Problem and conditioning:与问题函数的导数有关"
   ]
  },
  {
   "cell_type": "markdown",
   "metadata": {},
   "source": [
    "> *an idealized ratio of the relative error of the output to the relative error of the input.*  \n",
    "> *It depends only on the problem and the data, not the computer or the algorithm.*"
   ]
  },
  {
   "cell_type": "markdown",
   "metadata": {},
   "source": [
    "$$条件数\\kappa_{f(x)}=\\lim_{\\epsilon \\to 0}\\frac{|f(x)-f(x(1+\\epsilon))|}{|\\epsilon f(x)|}=\\lim_{\\epsilon \\to 0}|\\frac{f(x+\\epsilon x)-f(x)}{\\epsilon x}\\cdot\\frac{x}{f(x)}| = |\\frac{xf^{\\prime}(x)}{f(x)}|$$"
   ]
  },
  {
   "cell_type": "markdown",
   "metadata": {},
   "source": [
    "## 定义"
   ]
  },
  {
   "cell_type": "markdown",
   "metadata": {},
   "source": [
    "当使用浮点数计算时,记数据$x$的浮点数表示 $\\tilde x = fl(x)$,处理该数据的函数$f:\\mathbb{R}\\rightarrow\\mathbb{R}$  \n"
   ]
  },
  {
   "cell_type": "markdown",
   "metadata": {},
   "source": [
    "则 $$f输入与输出相对误差的比值 =\\frac{\\frac{|f(x)-f(\\tilde x)|}{|f(x)|}}{\\frac{|x-\\tilde x|}{|x|}} = \\frac{|f(x)-f(x(1+\\epsilon))|}{|\\epsilon f(x)|}$$  "
   ]
  },
  {
   "cell_type": "markdown",
   "metadata": {},
   "source": [
    "定义$$条件数\\kappa_{f(x)}=\\lim_{\\epsilon \\to 0}\\frac{|f(x)-f(x(1+\\epsilon))|}{|\\epsilon f(x)|}=\\lim_{\\epsilon \\to 0}|\\frac{f(x+\\epsilon x)-f(x)}{\\epsilon x}\\cdot\\frac{x}{f(x)}| = |\\frac{xf^{\\prime}(x)}{f(x)}|$$"
   ]
  },
  {
   "cell_type": "markdown",
   "metadata": {},
   "source": [
    "可知当$\\epsilon$足够小时,可以认为$|\\frac{f(x+\\epsilon x)-f(x)}{f(x)}| = \\kappa_{f(x)}\\cdot|\\epsilon|$"
   ]
  },
  {
   "cell_type": "markdown",
   "metadata": {},
   "source": [
    "当$\\kappa=1$时,输入与输出的相对误差不变;当$\\kappa = 10^{d}$时,f计算一次损失d位有效数字.条件数很大时，该问题被认为是为条件不良(ill-conditioned)的."
   ]
  },
  {
   "cell_type": "markdown",
   "metadata": {},
   "source": [
    "## 对于复合函数"
   ]
  },
  {
   "cell_type": "markdown",
   "metadata": {},
   "source": [
    "若$$h(x) = f(g(x))$$\n",
    "则有 (链式法则)$$\\kappa_{h}(x) = \\kappa_{f}(g(x))\\cdot\\kappa_{g}(x)$$"
   ]
  },
  {
   "cell_type": "markdown",
   "metadata": {},
   "source": [
    "## Example: 相近数相减导致有效数字减少\n"
   ]
  },
  {
   "cell_type": "markdown",
   "metadata": {},
   "source": [
    "\n",
    "> Subtractive Cancellation  \n",
    "Growth in relative error that occurs when two numbers are added/subtracted to get a result that is much smaller in magnitude than the operands.  \n",
    "\n",
    "> There’s no way the loss could be avoided, regardless of the algorithm, once we decided to round off everything to a fixed number of digits.\n"
   ]
  },
  {
   "cell_type": "markdown",
   "metadata": {},
   "source": [
    "推理:  \n",
    "记$f(x) = x-c$,$c$为常数  \n",
    "则$$\\kappa_{f(x)}=|\\frac{x}{x-c}|$$  \n",
    "当$x\\approx c$时,$\\kappa$非常大,导致精度损失."
   ]
  },
  {
   "cell_type": "markdown",
   "metadata": {},
   "source": [
    "\n",
    "e.g $1.0000-1.0012=-0.0012$"
   ]
  },
  {
   "cell_type": "markdown",
   "metadata": {},
   "source": [
    "## Multidimensional problems"
   ]
  },
  {
   "cell_type": "markdown",
   "metadata": {},
   "source": [
    "抓住一个变量，视其他变量为常数。"
   ]
  },
  {
   "cell_type": "markdown",
   "metadata": {},
   "source": [
    "Example problem:find roots of $at^2+bt+c=0$  \n",
    "denoted $f([a,b,c])=[t_1,t_2]$ (vector)\n",
    "  \n",
    "pick one root called $r$,and consider just vary coefficient $a$.  \n",
    "This suggests a function $f(a) = r$.\n",
    "Taking $d/da$ of both sides,we get: $$r^2+2ar(\\frac{dr}{da})+b\\frac{dr}{da} = 0$$\n",
    "indicating that $$\\frac{dr}{da} = \\frac{-r^2}{2ar+b} = \\frac{-r^2}{\\pm\\sqrt{b^2-4ac}}$$\n",
    "thus $$\\kappa(a) = |\\frac{a}{r}\\cdot\\frac{dr}{da}| = |\\frac{ar}{\\sqrt{b^2-4ac}}|=|\\frac{r}{t_1-t_2}|$$\n",
    "where $r\\in\\{t_1,t_2\\}$"
   ]
  }
 ],
 "metadata": {
  "language_info": {
   "name": "python"
  }
 },
 "nbformat": 4,
 "nbformat_minor": 2
}
