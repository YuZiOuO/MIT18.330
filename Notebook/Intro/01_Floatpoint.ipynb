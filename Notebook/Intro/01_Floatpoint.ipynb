{
 "cells": [
  {
   "cell_type": "markdown",
   "metadata": {},
   "source": [
    "浮点数格式:  \n",
    "$$\\pm(1+f)\\times2^e$$  \n",
    "其中:$$f=\\sum^d_{i=1}b_i2^{-i}$$  \n",
    "d为小数部分有效数字的位数,d决定了两个浮点数的间隔.\n",
    "\n",
    "最小浮点数间距(机器精度)$\\;\\epsilon_{mach} = 2^{-d}$  \n",
    "$[2^e,2^{e+1})$之间的浮点数距离为$\\;2^e\\epsilon_{mach}=2^{e-d}$  \n",
    " "
   ]
  },
  {
   "cell_type": "markdown",
   "metadata": {},
   "source": [
    "推论:记函数$fl(x)$将实数$x$映射到最近的浮点数上,则有  \n",
    "$$fl(x) = x(1+\\epsilon)$$  \n",
    "  \n",
    "证明:不失一般性,设$x>0$,则x位于某个区间$[2^e,2^{e+1})$上,有:  \n",
    "\\begin{gather}\n",
    "|x|\\geq2^e \\\\\n",
    "|fl(x)-x|\\leq\\frac{1}{2}(2^{e-d})=2^{e-d-1}\n",
    "\\end{gather}\n",
    "则有:\n",
    "\\begin{equation}\n",
    "\\frac{|fl(x)-x|}{|x|}\\leq2^{-d-1}\\leq\\frac{1}{2}\\epsilon_{mach} \\notag\n",
    "\\end{equation}\n",
    "则有 $fl(x) = x(1+\\epsilon)\\;for\\;some\\;|\\epsilon|\\leq\\epsilon_{mach}$ "
   ]
  },
  {
   "cell_type": "markdown",
   "metadata": {},
   "source": [
    "# IEEE754\n",
    "single precision : $d=23$\n",
    "double precision : $d=52$\\;$\\epsilon_{mach} = $"
   ]
  },
  {
   "cell_type": "markdown",
   "metadata": {},
   "source": [
    "$[1,2)$之间的浮点数间距为$\\epsilon_{mach}$,而$[0.5,1)$之间为$\\frac{\\epsilon_{mach}}{2}$.  \n",
    "  \n",
    "这导致$(1+\\frac{\\epsilon_{mach}}{2})-1$无法显示,而$1-(1-\\frac{\\epsilon_{mach}}{2})$可以."
   ]
  },
  {
   "cell_type": "code",
   "execution_count": 9,
   "metadata": {},
   "outputs": [
    {
     "ename": "LoadError",
     "evalue": "ParseError:\n\u001b[90m# Error @ \u001b[0;0m\u001b]8;;file://d:/prog&lec/mit18330/Notebook/Intro/In[9]#7:17\u001b\\\u001b[90mIn[9]:7:17\u001b[0;0m\u001b]8;;\u001b\\\n1.0 + (e - 1.0),\n1.0 - (1.0 - e),\u001b[48;2;120;70;70m\u001b[0;0m\n\u001b[90m#               └ ── \u001b[0;0m\u001b[91mpremature end of input\u001b[0;0m",
     "output_type": "error",
     "traceback": [
      "ParseError:\n\u001b[90m# Error @ \u001b[0;0m\u001b]8;;file://d:/prog&lec/mit18330/Notebook/Intro/In[9]#7:17\u001b\\\u001b[90mIn[9]:7:17\u001b[0;0m\u001b]8;;\u001b\\\n1.0 + (e - 1.0),\n1.0 - (1.0 - e),\u001b[48;2;120;70;70m\u001b[0;0m\n\u001b[90m#               └ ── \u001b[0;0m\u001b[91mpremature end of input\u001b[0;0m",
      "",
      "Stacktrace:",
      " [1] top-level scope",
      "   @ In[9]:7"
     ]
    }
   ],
   "source": [
    "e = eps()/2\n",
    "\n",
    "@show \n",
    "e,\n",
    "(1.0 + e) - 1.0,\n",
    "1.0 + (e - 1.0),\n",
    "1.0 - (1.0 - e)"
   ]
  }
 ],
 "metadata": {
  "kernelspec": {
   "display_name": "Julia 1.10.5",
   "language": "julia",
   "name": "julia-1.10"
  },
  "language_info": {
   "file_extension": ".jl",
   "mimetype": "application/julia",
   "name": "julia",
   "version": "1.10.5"
  }
 },
 "nbformat": 4,
 "nbformat_minor": 2
}
