{
 "cells": [
  {
   "cell_type": "markdown",
   "metadata": {},
   "source": [
    "# Floating-point numbers"
   ]
  },
  {
   "cell_type": "markdown",
   "metadata": {},
   "source": [
    "$$fl(x) = x(1+\\epsilon)\\;for\\;some\\;|\\epsilon|\\leq\\epsilon_{mach}$$"
   ]
  },
  {
   "cell_type": "markdown",
   "metadata": {},
   "source": [
    "## 定义\n"
   ]
  },
  {
   "cell_type": "markdown",
   "metadata": {},
   "source": [
    "浮点数格式:  \n",
    "$$\\pm(1+f)\\times2^e$$  \n",
    "其中:$$f=\\sum^d_{i=1}b_i2^{-i}$$  \n",
    "d为小数部分有效数字的位数\n",
    "\n",
    "最小浮点数间距(机器精度,即1到最小浮点数$1+f$的距离)$\\;\\epsilon_{mach} = 2^{-d}$  \n",
    "$[2^e,2^{e+1})$之间的浮点数距离为$\\;2^e\\epsilon_{mach}=2^{e-d}$  \n",
    " "
   ]
  },
  {
   "cell_type": "markdown",
   "metadata": {},
   "source": [
    "推论:记函数$fl(x)$将实数$x$映射到最近的浮点数上,则有  \n",
    "$$fl(x) = x(1+\\epsilon)$$  \n",
    "  \n",
    "证明:不失一般性,设$x>0$,则x位于某个区间$[2^e,2^{e+1})$上,有:  \n",
    "\\begin{gather}\n",
    "|x|\\geq2^e \\\\\n",
    "|fl(x)-x|\\leq\\frac{1}{2}(2^{e-d})=2^{e-d-1}\n",
    "\\end{gather}\n",
    "则有:\n",
    "\\begin{equation}\n",
    "\\frac{|fl(x)-x|}{|x|}\\leq2^{-d-1}\\leq\\frac{1}{2}\\epsilon_{mach} \\notag\n",
    "\\end{equation}\n",
    "则有 $fl(x) = x(1+\\epsilon)\\;for\\;some\\;|\\epsilon|\\leq\\epsilon_{mach}$ "
   ]
  },
  {
   "cell_type": "markdown",
   "metadata": {},
   "source": [
    "## Precision and accuracy\n"
   ]
  },
  {
   "cell_type": "markdown",
   "metadata": {},
   "source": [
    "\n",
    "绝对精度absolute accuracy $=|\\tilde x-x|$  \n",
    "相对精度relative accuracy $=\\frac{|\\tilde x-x|}{|x|}$  \n",
    "有效数字accurate digits $=-log_{10}\\frac{|\\tilde x-x|}{|x|}$(向下取整)"
   ]
  },
  {
   "cell_type": "code",
   "execution_count": 11,
   "metadata": {},
   "outputs": [
    {
     "name": "stdout",
     "output_type": "stream",
     "text": [
      "p = 22 / 7 = 3.142857142857143\n",
      "abs_accuracy = abs(p - pi) = 0.0012644892673496777\n",
      "rel_accuracy = abs(p - pi) / pi = 0.0004024994347707008\n",
      "accurate_digits = -(log(10, rel_accuracy)) = 3.395234725174716\n"
     ]
    }
   ],
   "source": [
    "@show p = 22/7;\n",
    "@show abs_accuracy = abs(p-pi);\n",
    "@show rel_accuracy = abs(p-pi)/pi;\n",
    "@show accurate_digits = -log(10,rel_accuracy);"
   ]
  },
  {
   "cell_type": "markdown",
   "metadata": {},
   "source": [
    "## IEEE754\n"
   ]
  },
  {
   "cell_type": "markdown",
   "metadata": {},
   "source": [
    "single precision : $d=23$  \n",
    "double precision : $d=52$"
   ]
  },
  {
   "cell_type": "markdown",
   "metadata": {},
   "source": [
    "### Demo:Surprising arithmetic\n",
    "$[1,2)$之间的浮点数间距为$\\epsilon_{mach}$,而$[0.5,1)$之间为$\\frac{\\epsilon_{mach}}{2}$.  \n",
    "  \n",
    "这导致$(1+\\frac{\\epsilon_{mach}}{2})-1$无法显示,而$1-(1-\\frac{\\epsilon_{mach}}{2})$可以."
   ]
  },
  {
   "cell_type": "code",
   "execution_count": 10,
   "metadata": {},
   "outputs": [
    {
     "data": {
      "text/plain": [
       "(1.1102230246251565e-16, 0.0, 1.1102230246251565e-16, 1.1102230246251565e-16)"
      ]
     },
     "execution_count": 10,
     "metadata": {},
     "output_type": "execute_result"
    }
   ],
   "source": [
    "e = eps()/2\n",
    "\n",
    "@show \n",
    "e,\n",
    "(1.0 + e) - 1.0,\n",
    "1.0 + (e - 1.0),\n",
    "1.0 - (1.0 - e)"
   ]
  },
  {
   "cell_type": "markdown",
   "metadata": {},
   "source": [
    "# Exercises\n",
    "1. 1\n",
    "   1. 3*2^4+1 = 49"
   ]
  }
 ],
 "metadata": {
  "kernelspec": {
   "display_name": "Julia 1.10.5",
   "language": "julia",
   "name": "julia-1.10"
  },
  "language_info": {
   "file_extension": ".jl",
   "mimetype": "application/julia",
   "name": "julia",
   "version": "1.10.5"
  }
 },
 "nbformat": 4,
 "nbformat_minor": 2
}
