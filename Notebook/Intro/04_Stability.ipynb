{
 "cells": [
  {
   "cell_type": "markdown",
   "metadata": {},
   "source": [
    "# Stability"
   ]
  },
  {
   "cell_type": "markdown",
   "metadata": {},
   "source": [
    "## Case Study\n",
    "二次求根公式是一个不稳定的算法。"
   ]
  },
  {
   "cell_type": "markdown",
   "metadata": {},
   "source": [
    "求解$$p(x) = (x-10^6)(x-10^{-6})$$"
   ]
  },
  {
   "cell_type": "code",
   "execution_count": 1,
   "metadata": {},
   "outputs": [
    {
     "name": "stdout",
     "output_type": "stream",
     "text": [
      "x1 = (-b + sqrt(b ^ 2 - 4 * a * c)) / (2a) = 1.0e6\n",
      "x2 = (-b - sqrt(b ^ 2 - 4 * a * c)) / (2a) = 1.00000761449337e-6\n"
     ]
    }
   ],
   "source": [
    "a = 1;  b = -(1e6+1e-6);  c = 1;\n",
    "@show x1 = (-b + sqrt(b^2-4*a*c)) / (2*a);\n",
    "@show x2 = (-b - sqrt(b^2-4*a*c)) / (2*a);"
   ]
  },
  {
   "cell_type": "markdown",
   "metadata": {},
   "source": [
    "计算x2时,有效数字只有6位，然而该问题的相对条件数仅在两根相近时增大，导致有效数字减小的主要原因算法不稳定。"
   ]
  },
  {
   "cell_type": "markdown",
   "metadata": {},
   "source": [
    "不稳定的原因：在计算x2的过程中，第四步需要将$-b$减去$\\sqrt{b^2-4ac}$，此过程的条件数约为$\\kappa = |u_3|/|u_4| \\approx 5\\times10^{11}$，导致有效数字丢失。（相近数相减）"
   ]
  },
  {
   "cell_type": "markdown",
   "metadata": {},
   "source": [
    "## test"
   ]
  }
 ],
 "metadata": {
  "kernelspec": {
   "display_name": "Julia 1.10.5",
   "language": "julia",
   "name": "julia-1.10"
  },
  "language_info": {
   "file_extension": ".jl",
   "mimetype": "application/julia",
   "name": "julia",
   "version": "1.10.5"
  }
 },
 "nbformat": 4,
 "nbformat_minor": 2
}
