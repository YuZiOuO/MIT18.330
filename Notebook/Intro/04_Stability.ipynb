{
 "cells": [
  {
   "cell_type": "markdown",
   "metadata": {},
   "source": [
    "# Stability"
   ]
  },
  {
   "cell_type": "markdown",
   "metadata": {},
   "source": [
    "## Case Study\n",
    "二次求根公式是一个不稳定的算法。"
   ]
  },
  {
   "cell_type": "markdown",
   "metadata": {},
   "source": [
    "求解$$p(x) = (x-10^6)(x-10^{-6})$$"
   ]
  },
  {
   "cell_type": "code",
   "execution_count": 1,
   "metadata": {},
   "outputs": [
    {
     "name": "stdout",
     "output_type": "stream",
     "text": [
      "x1 = (-b + sqrt(b ^ 2 - 4 * a * c)) / (2a) = 1.0e6\n",
      "x2 = (-b - sqrt(b ^ 2 - 4 * a * c)) / (2a) = 1.00000761449337e-6\n"
     ]
    }
   ],
   "source": [
    "a = 1;  b = -(1e6+1e-6);  c = 1;\n",
    "@show x1 = (-b + sqrt(b^2-4*a*c)) / (2*a);\n",
    "@show x2 = (-b - sqrt(b^2-4*a*c)) / (2*a);"
   ]
  },
  {
   "cell_type": "markdown",
   "metadata": {},
   "source": [
    "计算x2时,有效数字只有6位，然而该问题的相对条件数仅在两根相近时增大，导致有效数字减小的主要原因算法不稳定。"
   ]
  },
  {
   "cell_type": "markdown",
   "metadata": {},
   "source": [
    "不稳定的原因：在计算x2的过程中，第四步需要将$-b$减去$\\sqrt{b^2-4ac}$，此过程的条件数约为$\\kappa = |u_3|/|u_4| \\approx 5\\times10^{11}$，导致有效数字丢失。（相近数相减）"
   ]
  },
  {
   "cell_type": "markdown",
   "metadata": {},
   "source": [
    "## Backward Error 后向误差?\n",
    "设有问题$y=f(x)$  \n",
    "Error:某一算法 $\\tilde f$ 对原始值 $x$ 作用得到的输出值 $\\tilde y$ 与真实值 $y$ 的差  \n",
    "Backward Error:对于 $\\tilde y$,若存在 $\\tilde x$,使得 $f(\\tilde x) = \\tilde y$,则称 $|\\frac{\\tilde x - x|}{x}|$为Backward Error\n"
   ]
  },
  {
   "cell_type": "markdown",
   "metadata": {},
   "source": [
    "> *if an algorithm always produces small backward errors, then it is stable. But the converse is not always true: some stable algorithms may produce a large backward error.*  \n",
    "> *In an ill-conditioned problem, we can only hope for small backward error, not small error.*"
   ]
  },
  {
   "cell_type": "markdown",
   "metadata": {},
   "source": [
    "**Backward Error是相对算法而言**  \n",
    "算法 $\\tilde f$ 的输出是原问题结果的近似，将该输出作为原问题反函数 $f^{-1}$ 的输入，得到 $\\tilde x$。"
   ]
  }
 ],
 "metadata": {
  "kernelspec": {
   "display_name": "Julia 1.10.5",
   "language": "julia",
   "name": "julia-1.10"
  },
  "language_info": {
   "file_extension": ".jl",
   "mimetype": "application/julia",
   "name": "julia",
   "version": "1.10.5"
  }
 },
 "nbformat": 4,
 "nbformat_minor": 2
}
