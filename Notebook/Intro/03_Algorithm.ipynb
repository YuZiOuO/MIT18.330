{
 "cells": [
  {
   "cell_type": "markdown",
   "metadata": {},
   "source": [
    "# Algorithms"
   ]
  },
  {
   "cell_type": "markdown",
   "metadata": {},
   "source": [
    "## 概念区分\n",
    "1. 问题(problem)被理想化为数学函数$f(x)$.\n",
    "2. 一系列将数据映射到结果的指令称为算法(algorithm),记作$\\tilde f (x)$.对应一个问题的算法可以有很多."
   ]
  },
  {
   "cell_type": "markdown",
   "metadata": {},
   "source": [
    "例如: 数学函数$f(x) = 5x^3+4x^2+3x+2 $  \n",
    "算法1:$$f(x) = 5x^3+4x^2+3x+2$$\n",
    "算法2:(Horner)$$f(x)=2+x(3+x(4+5x))$$"
   ]
  },
  {
   "cell_type": "markdown",
   "metadata": {},
   "source": [
    "## Horner’s rule for evaluating a polynomial\n",
    "计算量更少,误差更低."
   ]
  },
  {
   "cell_type": "code",
   "execution_count": 2,
   "metadata": {},
   "outputs": [
    {
     "data": {
      "text/plain": [
       "horner"
      ]
     },
     "execution_count": 2,
     "metadata": {},
     "output_type": "execute_result"
    }
   ],
   "source": [
    "\"\"\"\n",
    "horner(c,x)\n",
    "\n",
    "Evaluate a polynomial whose coefficients are given in ascending\n",
    "order in `c`, at the point `x`, using Horner's rule.\n",
    "\"\"\"\n",
    "function horner(c,x)\n",
    "\n",
    "n = length(c)\n",
    "y = c[n]\n",
    "for k in n-1:-1:1\n",
    "    y = x*y + c[k]\n",
    "end\n",
    "\n",
    "return y\n",
    "end"
   ]
  },
  {
   "cell_type": "code",
   "execution_count": 3,
   "metadata": {},
   "outputs": [
    {
     "ename": "LoadError",
     "evalue": "MethodError: no method matching horner()\n\n\u001b[0mClosest candidates are:\n\u001b[0m  horner(\u001b[91m::Any\u001b[39m, \u001b[91m::Any\u001b[39m)\n\u001b[0m\u001b[90m   @\u001b[39m \u001b[35mMain\u001b[39m \u001b[90m\u001b[4mIn[2]:7\u001b[24m\u001b[39m\n",
     "output_type": "error",
     "traceback": [
      "MethodError: no method matching horner()\n\n\u001b[0mClosest candidates are:\n\u001b[0m  horner(\u001b[91m::Any\u001b[39m, \u001b[91m::Any\u001b[39m)\n\u001b[0m\u001b[90m   @\u001b[39m \u001b[35mMain\u001b[39m \u001b[90m\u001b[4mIn[2]:7\u001b[24m\u001b[39m\n",
      "",
      "Stacktrace:",
      " [1] top-level scope",
      "   @ In[3]:1"
     ]
    }
   ],
   "source": [
    "horner()"
   ]
  }
 ],
 "metadata": {
  "kernelspec": {
   "display_name": "Julia 1.10.5",
   "language": "julia",
   "name": "julia-1.10"
  },
  "language_info": {
   "file_extension": ".jl",
   "mimetype": "application/julia",
   "name": "julia",
   "version": "1.10.5"
  }
 },
 "nbformat": 4,
 "nbformat_minor": 2
}
