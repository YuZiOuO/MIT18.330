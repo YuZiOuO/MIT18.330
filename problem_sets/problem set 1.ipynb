{
 "cells": [
  {
   "cell_type": "markdown",
   "metadata": {},
   "source": [
    "# 18.330 Problem set 1 (spring 2020)\n",
    "\n",
    "## Submission deadline: 11:59pm on Monday, February 10\n",
    "\n",
    "The questions are a mixture of hand / analytical calculation\n",
    "and numerical calculation using Julia. You should submit a PDF file.\n",
    "You may photograph / scan your handwritten solutions for the theory parts,\n",
    "or (preferably) type them up as part of a Jupyter notebook that you print to PDF.\n",
    "\n",
    "\n",
    "#### Exercise 1: Evaluating polynomials\n",
    "\n",
    "Consider the polynomial function\n",
    "\n",
    "$$p(a, x) = a_0 + a_1 x + \\cdots + a_n x^n. $$\n",
    "\n",
    "1. Write a function `poly_eval(a, x)` to evaluate $p(a, x)$ in the naive way by just summing the terms\n",
    "as written. This should accept the coefficients $a_0, \\ldots, a_n$ as a vector.\n",
    "\n",
    "2. The **Horner method** is an alternative evaluation algorithm in which no\n",
    "powers of $x$ are (explicitly) calculated.\n",
    "\n",
    "    For example, for a quadratic\n",
    "    $p(x) = a_2 x^2 + a_1 x + a_0$ we have\n",
    "    $p(x) = a_0 + x(a_1 + a_2 x)$\n",
    "\n",
    "    Generalise this to polynomials of degree $3$ and then degree $n$\n",
    "\n",
    "3. Implement this as a function `horner(a, x)`.\n",
    "\n",
    "4. Test `horner` to make sure it gives the same result as `poly_eval`.\n",
    "\n",
    "4. Benchmark the two methods to evaluate the polynomial $p(a, x) = 1 + 2x + 3x^2 + \\cdots + 10x^{10}$.\n",
    "Which algorithm is more efficient and by how much?\n",
    "\n",
    "5. Count (approximately) the number of operations required by each of the two algorithms.\n",
    "Does this agree with your benchmarks? (Feel free to perform\n",
    "        more benchmarks to check this, e.g. using polynomials with random coefficients.)\n"
   ]
  },
  {
   "cell_type": "code",
   "execution_count": 31,
   "metadata": {},
   "outputs": [
    {
     "data": {
      "text/plain": [
       "107374182399995000"
      ]
     },
     "execution_count": 31,
     "metadata": {},
     "output_type": "execute_result"
    }
   ],
   "source": [
    "function poly_eval(a,x)\n",
    "    temp = 0\n",
    "    for i in 1:length(a) \n",
    "        temp += a[i]*(x^(i-1))\n",
    "    end\n",
    "    return temp\n",
    "end\n",
    "\n",
    "function horner_recursive(a,x,index)\n",
    "    if(index != length(a)-1)\n",
    "        return a[index]+x*horner_recursive(a,x,index+1)\n",
    "    else\n",
    "        return a[index]+x*a[index+1]\n",
    "    end\n",
    "end\n",
    "\n",
    "function horner(a,x)\n",
    "    return horner_recursive(a,x,1)\n",
    "end\n",
    "\n",
    "#Ops:   poly_eval():O(n^2)  horner():O(n)\n",
    "\n",
    "poly_eval(1:10000,2147483647)\n",
    "horner(1:10000,2147483647)"
   ]
  },
  {
   "cell_type": "markdown",
   "metadata": {},
   "source": [
    "#### Exercise 2: Calculating $\\sqrt{y}$\n",
    "\n",
    "The Babylonian algorithm for calculating $x = \\sqrt{y}$ is the following iteration:\n",
    "\n",
    "$$x_{n+1    } = \\frac{1}{2} \\left( x_n + \\frac{y}{x_n} \\right).$$\n",
    "\n",
    "1. *Suppose* that $x_n$ converges to some limiting value $x^*$ as $n \\to \\infty$. Show that\n",
    "then we must have $x^* = \\sqrt{y}$.\n",
    "\n",
    "2. To show that it does, in fact, converge, suppose (without loss of generality)\n",
    "that $x_0 < \\sqrt{y}$.\n",
    "\n",
    "    Show that we then have $x_n < x_{n+1} < y_{n+1} < y_n$ for all $n$. Hence\n",
    "the $x_n$ form an increasing sequence that is bounded above, and hence they converge.\n",
    "(This is a [theorem](https://en.wikipedia.org/wiki/Monotone_convergence_theorem)\n",
    "that we will just assume for this course.)\n",
    "\n",
    "3. Write a function `babylon` that implements this algorithm. It takes\n",
    "a tolerance $\\epsilon$ and iterates until the residual is $< \\epsilon$.\n",
    "It should return the sequence $(x_n)$.\n",
    "\n",
    "4. Test your function to make sure it gives the correct result.\n",
    "\n",
    "5. Use rational initial values to convince yourself that calculating with rationals\n",
    " is a bad idea\n",
    "and that floating point is a good compromise.\n",
    "\n",
    "6. Let $\\delta_n := x_n - x^{*}$ be the distance of $x_n$ from the limiting\n",
    "value $\\sqrt{y}$. (You may use Julia's built-in `sqrt` function, or take the last\n",
    "data value as the limit.)\n",
    "\n",
    "7. Plot the (absolute value of) $\\delta_n$ as a function of $n$ on a suitable combination of linear\n",
    "and log scales. How fast does it seem to be converging?\n",
    "\n",
    "8. Compare this on the same plot to the bisection algorithm from class.\n",
    "Which is better?\n",
    "\n",
    "9. With $\\delta_n$ defined as in [6.], show that $\\delta_{n+1} \\simeq \\delta_n^2$\n",
    "($\\simeq$ means \"is approximately equal to\").\n",
    "\n",
    "    Hint: you may need to use a Taylor series expansion; if so you should\n",
    "    calculate this (by hand)."
   ]
  }
 ],
 "metadata": {
  "kernelspec": {
   "display_name": "Julia 1.10.5",
   "language": "julia",
   "name": "julia-1.10"
  },
  "language_info": {
   "file_extension": ".jl",
   "mimetype": "application/julia",
   "name": "julia",
   "version": "1.10.5"
  }
 },
 "nbformat": 4,
 "nbformat_minor": 2
}
