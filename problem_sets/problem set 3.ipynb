{
  "cells": [
    {
      "cell_type": "markdown",
      "source": [
        "# 18.330 Problem set 3 (spring 2020)\n\n## Submission deadline: 11:59pm on Tuesday, February 25\n\n\n#### Exercise 1: Algorithmic differentiation\n\n1. Complete the implementation of the `Dual` type from class,\nincluding derivatives for subtraction, division, and integer powers.\nFor $/$ you may assume that the denominator is not zero.\n\n    Add methods for each function to e.g. add a real number (type `::Real`) to a `Dual`.\n    Treat a real number as having derivative 0.\n\n2. Put these definitions in a file `dual.jl`.\nThis may be included with `include(\"dual.jl\")`\nfrom Juno or Jupyter, or from another file.\n\n    (You must make sure the files are in the same directory,\n    or give the path to the file on your machine.)\n\n3. For functions $f$ such as `exp`, we define the action of the\nfunction on a `Dual` using\n\n    $$f(a + b\\epsilon) = f(a) + \\epsilon \\, b f'(a)$$\n\n    Use this to define `exp`, `sin` and `log` on `Dual` numbers.\n\n4. Write a function `derivative` that takes a function $f$ and a\npoint $a$, and uses `Dual` numbers to calculate the derivative\n$f'(a)$ of $f$ at $a$. It should return *only* the derivative.\n\n5. Define a function to calculate the directional derivative of a\nfunction $f:\\mathbb{R}^n \\to \\mathbb{R}$ in a direction $\\mathbf{v}$.\n\n6. Use this to write a function `partial` to calculate the $i$th\npartial derivative of a function.\n\n7. Write functions to calculate the gradient and Jacobian\nof a function $f: \\mathbb{R}^n$.\n\n8. Write a few tests of the functions you have written.\nUse simple functions for which you can do the calculations by hand to write the tests."
      ],
      "metadata": {}
    },
    {
      "outputs": [],
      "cell_type": "code",
      "source": [
        ""
      ],
      "metadata": {},
      "execution_count": null
    },
    {
      "cell_type": "markdown",
      "source": [
        "#### Exercise 2: Newton for higher-dimensional functions\n\n1. Implement the multidimensional Newton method. It should take a function $f$\nand an initial guess $x_0$.\n\n    You should preferably use your own function from [Exercise 1] for\n    calculating the Jacobian. You may also use instead the function\n    `ForwardDiff.jacobian` from the `ForwardDiff.jl` package.\n\n    You should first do a basic check that $f$ does the right thing\n    by checking if $f(x_0)$ is of the same dimension as $x_0$.\n\n    Iterate until the residual is small enough or until some maximum\n    number of iterations is reached. To check the residual, use\n    the `norm` function from the standard library `LinearAlgebra` package.\n    This calculates the \"size\" (length) of a vector.\n\n    The function should return a pair `(flag, r)`, where `flag`\n    is a Boolean that indicates if a root was found, and `r` is the location\n    of the root (if one was found).\n\n\n2. Consider the nonlinear system\n\n    \\begin{align}\n    x^2 + y^2 = 3  \\\\\n    \\left(\\frac{x}{2} \\right)^2 + (y-a)^2 = 1\n    \\end{align}\n\n\n    Make a plot of the two functions for $a = 0.5$.\n    How many roots are there?\n\n3. From your plot, identify by eye approximately where the top right root is.\nUse the Newton method to find it accurately.\n\n    Find the order of convergence of the method in this case.\n    (As usual you probably need `BigFloat` to get a good result.)\n\n4. Make a function `all_roots` that searches for all roots in a given\nrectangular box. (The size of the box should be given as arguments to the function).\nIt should keep a list of the *unique* roots found so far (i.e. without duplicates).\nUse a tolerance to decide if two roots are the same or not.\n\n    You may use a grid search or a random search inside the box.\n\n5. Use `all_roots` to find all solutions of the system.\n\n6. Make an interactive visualization where you repeat the above for different values of $a$.\nYou should redraw the curves and draw all roots you find on top, for each value of $a$.\n\n    Which qualitative change occurs and why? How could you think of\n    going about finding numerically the critical value of $a$ for which\n    this happens? You do not need to do so, just think about what you *would*\n        do.\n\n    Extra credit if you actually do so."
      ],
      "metadata": {}
    },
    {
      "outputs": [],
      "cell_type": "code",
      "source": [
        ""
      ],
      "metadata": {},
      "execution_count": null
    },
    {
      "cell_type": "markdown",
      "source": [
        "#### Exercise 3: A more complicated example\n\nConsider the system\n\n\\begin{align}\n(x+3) (y^3-7) + 18 = 0 \\\\\n\\sin(y \\exp(x)-1)) = 0\n\\end{align}\n\n(taken from [here](https://github.com/JuliaNLSolvers/NLsolve.jl)).\n\n\n1. Draw plots of the two functions.\n\n2. Find as many roots as you can in the region $[-5, 5]^2$. How many are there?\n\n3. Plot them on top of the graph. Did you find them all?"
      ],
      "metadata": {}
    },
    {
      "outputs": [],
      "cell_type": "code",
      "source": [
        ""
      ],
      "metadata": {},
      "execution_count": null
    },
    {
      "cell_type": "markdown",
      "source": [
        "#### Exercise 4: Lorenz equations\n\n The [Lorenz equations](https://en.wikipedia.org/wiki/Lorenz_system)\nare a system of 3 ordinary differential equations that give a \"simple\"\nmodel of convection in the atmosphere. They are famous since their solutions\nform beautiful patterns and are an early example of the identification of **chaos**\nin deterministic dynamical systems:\n\n\n\\begin{align}\n\\frac{\\mathrm{d}x}{\\mathrm{d}t} &= \\sigma (y - x), \\\\[6pt]\n\\frac{\\mathrm{d}y}{\\mathrm{d}t} &= x (\\rho - z) - y, \\\\[6pt]\n\\frac{\\mathrm{d}z}{\\mathrm{d}t} &= x y - \\beta z.\n\\end{align}\n\n\nWe will take the standard parameter values: $\\sigma = 10$ and $\\beta = 8/3$.\n\n\nWe will come back to look at their dynamics later in the course. For now we\nwill look only at the **stationary points**, which are obtained by setting all of\nthe time derivatives equal to $0$ and solving the resulting system\nof nonlinear equations. [If the system starts at a stationary point,\nit will remain there.]\n\n[Note that for this particular system the roots may be found analytically, which\nyou may use to check your work. But if you were to perturb the\noriginal system a bit, it would no longer be possible to find the roots analytically.]\n\n1. Make a function `lorenz(x, y, z, σ, ρ, β)` and a method\n`lorenz(ρ)` that takes a vector `x` and uses the standard parameter values.\nfor $\\sigma$ and $\\beta$.\n\n2. Make a function `all_roots3` that is a 3D version of `all_roots`.\n[Extra credit: Make a generic version that works in *any* number of dimensions.]\n\n3. Use `all_roots3` to find all the stationary points for $\\rho = 2$. You should\nsearch in a box $[-5, 5]^3$.\nHow many stationary points are there?\n\n\nThe **stability** of a stationary point turns out to be given by the eigenvalues of\nthe Jacobian matrix at that point. [A trajectory starting close\nto an unstable point will move away from that point.]\nWe will see how to calculate eigenvalues of\na matrix later in the course; for now, use the `eigvals` function from `LinearAlgebra`.\nRecall that the eigenvalues of a matrix are complex numbers in general.\n\nA stationary point is **stable** if the real part of each eigenvalue is $<0$, and\n**unstable** if any eigenvalue has real part $>0$.\n\n4. Write a function `maximum_stability(f, x)` that calculates the maximum of the real parts\nof all the eigenvalues,\nassuming that $x$ is a stationary point of $f$.\n\n5. Write a function that \"follows\" each stationary point found in [3.]:\nincrease $\\rho$ by an increment $\\delta \\rho = 0.1$ and use the stationary points from the previous value\nof $\\rho$ as initial conditions for the Newton method for the new value of $\\rho$.\n[This is an example of **numerical continuation**. It assumes that the number\nof stationary points will not change.]\n\n6. Plot the maximum stability as a function of $\\rho$ between $2$ and $25$.\n\n7. Use a suitable numerical method to accurately find the critical\nvalue $\\rho_c$ at which the stability of the stationary points changes."
      ],
      "metadata": {}
    }
  ],
  "nbformat_minor": 2,
  "metadata": {
    "language_info": {
      "file_extension": ".jl",
      "mimetype": "application/julia",
      "name": "julia",
      "version": "1.3.1"
    },
    "kernelspec": {
      "name": "julia-1.3",
      "display_name": "Julia 1.3.1",
      "language": "julia"
    }
  },
  "nbformat": 4
}
